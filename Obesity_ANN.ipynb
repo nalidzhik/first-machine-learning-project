{
 "cells": [
  {
   "attachments": {},
   "cell_type": "markdown",
   "metadata": {},
   "source": [
    "# Artificial Neural Network"
   ]
  },
  {
   "attachments": {},
   "cell_type": "markdown",
   "metadata": {},
   "source": [
    "## Part1 - Importing the libraries"
   ]
  },
  {
   "cell_type": "code",
   "execution_count": 64,
   "metadata": {},
   "outputs": [],
   "source": [
    "import numpy as np\n",
    "import pandas as pd\n",
    "import tensorflow as tf\n",
    "import matplotlib.pyplot as plt\n",
    "from tensorflow.keras.layers import Dense\n",
    "from tensorflow.keras.models import Sequential\n",
    "from sklearn.preprocessing import OneHotEncoder\n",
    "from sklearn.preprocessing import StandardScaler\n",
    "from sklearn.model_selection import GridSearchCV\n",
    "from sklearn.model_selection import train_test_split\n",
    "from sklearn.metrics import confusion_matrix, accuracy_score"
   ]
  },
  {
   "attachments": {},
   "cell_type": "markdown",
   "metadata": {},
   "source": [
    "### Part 2 - Importing and preparing the dataset"
   ]
  },
  {
   "attachments": {},
   "cell_type": "markdown",
   "metadata": {},
   "source": [
    "### Dataset overview\n",
    "\n",
    "#### Basic atrributes:\n",
    "- Gender\n",
    "- Age\n",
    "- Height\n",
    "- Weight\n",
    "\n",
    "#### The attributes related with eating habits are\n",
    "- FAVC - Frequent consumption of high caloric food  \n",
    "- FCVC  - Frequency of consumption of vegetables \n",
    "- NCP - Number of main meals \n",
    "- CAEC - Consumption of food between meals \n",
    "- CH20 - Consumption of water daily \n",
    "- CALC Consumption of alcohol\n",
    "\n",
    "#### The attributes related with the physical condition are:\n",
    "- SCC - Calories consumption monitoring\n",
    "- FAF - Physical activity frequency \n",
    "- TUE - Time using technology devices \n",
    "- MTRANS - Transportation used \n",
    "\n",
    "#### The label:\n",
    "- NObesity - the target variable is made up of the independant variables Height and Weight. There are 7 unique values - 'Normal_Weight', 'Overweight_Level_I', 'Overweight_Level_II', 'Obesity_Type_I', 'Insufficient_Weight', 'Obesity_Type_II', 'Obesity_Type_III'\n",
    "\n",
    "#### Goal:\n",
    "- Tries to predict level of obesity based on eating habits and physical condition\n",
    "\n",
    "For more information on the data please see the EDA notebook."
   ]
  },
  {
   "cell_type": "code",
   "execution_count": 65,
   "metadata": {},
   "outputs": [],
   "source": [
    "dataset = pd.read_csv('./data/modified.csv');\n",
    "X_wHW = dataset.iloc[:, :-1].values"
   ]
  },
  {
   "cell_type": "code",
   "execution_count": 66,
   "metadata": {},
   "outputs": [],
   "source": [
    "dataset_no_H_W = pd.read_csv('./data/modified_no_H_W.csv');\n",
    "X_nHW = dataset.iloc[:, :-1].values"
   ]
  },
  {
   "attachments": {},
   "cell_type": "markdown",
   "metadata": {},
   "source": [
    "### Encoding categorical data"
   ]
  },
  {
   "attachments": {},
   "cell_type": "markdown",
   "metadata": {},
   "source": [
    "The independable variables is encoded during the EDA"
   ]
  },
  {
   "attachments": {},
   "cell_type": "markdown",
   "metadata": {},
   "source": [
    "With OneHotEncoder for each unique value of an attribute a new column is created. Having 7 categories for our output means that for each y there are 7 values - 6 zeros and 1 one as shown below."
   ]
  },
  {
   "cell_type": "code",
   "execution_count": 67,
   "metadata": {},
   "outputs": [],
   "source": [
    "encoder = OneHotEncoder()\n",
    "y_wHW = encoder.fit_transform(dataset[['NObesity']]).toarray()"
   ]
  },
  {
   "cell_type": "code",
   "execution_count": 68,
   "metadata": {},
   "outputs": [
    {
     "name": "stdout",
     "output_type": "stream",
     "text": [
      "[0. 1. 0. 0. 0. 0. 0.]\n"
     ]
    }
   ],
   "source": [
    "print(y_wHW[0])"
   ]
  },
  {
   "cell_type": "code",
   "execution_count": 70,
   "metadata": {},
   "outputs": [],
   "source": [
    "encoder_nHW = OneHotEncoder()\n",
    "y_nHW = encoder.fit_transform(dataset_no_H_W[['NObesity']]).toarray()"
   ]
  },
  {
   "cell_type": "code",
   "execution_count": 71,
   "metadata": {},
   "outputs": [
    {
     "name": "stdout",
     "output_type": "stream",
     "text": [
      "[0. 1. 0. 0. 0. 0. 0.]\n"
     ]
    }
   ],
   "source": [
    "print(y_nHW[0])"
   ]
  },
  {
   "attachments": {},
   "cell_type": "markdown",
   "metadata": {},
   "source": [
    "### Splitting the dataset into the Training set and Test set"
   ]
  },
  {
   "cell_type": "code",
   "execution_count": 72,
   "metadata": {},
   "outputs": [],
   "source": [
    "X_train_wHW, X_test_wHW, y_train_wHW, y_test_wHW = train_test_split(X_wHW, y_wHW, test_size = 0.3, random_state = 0)"
   ]
  },
  {
   "cell_type": "code",
   "execution_count": 73,
   "metadata": {},
   "outputs": [],
   "source": [
    "X_train_nHW, X_test_nHW, y_train_nHW, y_test_nHW = train_test_split(X_nHW, y_nHW, test_size = 0.3, random_state = 0)"
   ]
  },
  {
   "attachments": {},
   "cell_type": "markdown",
   "metadata": {},
   "source": [
    "There are several things about this step that are worth explaining. First and foremost, it is performed after the dataset is split into a training set and a test set. The reason for that is to simulate a real-world scenario with the test set.\n",
    "\n",
    "The training set is fitted and transformed and the test set is just transformed. The reason for that is because I want them to be in the same format but to avoid the already mentioned 'information leakage'.\n",
    "\n",
    "### Future Scaling"
   ]
  },
  {
   "cell_type": "code",
   "execution_count": 74,
   "metadata": {},
   "outputs": [],
   "source": [
    "# Absolutely fundamental for NN. Should be performed it to all variables no matter of the encoding\n",
    "sc_wHW = StandardScaler()\n",
    "X_train_wHW = sc_wHW.fit_transform(X_train_wHW)\n",
    "X_test_wHW = sc_wHW.transform(X_test_wHW)"
   ]
  },
  {
   "cell_type": "code",
   "execution_count": 75,
   "metadata": {},
   "outputs": [],
   "source": [
    "sc_nHW = StandardScaler()\n",
    "X_train_nHW = sc_nHW.fit_transform(X_train_nHW)\n",
    "X_test_nHW = sc_nHW.transform(X_test_nHW)"
   ]
  },
  {
   "attachments": {},
   "cell_type": "markdown",
   "metadata": {},
   "source": [
    "## Part 3 - Building the function that will be used "
   ]
  },
  {
   "attachments": {},
   "cell_type": "markdown",
   "metadata": {},
   "source": [
    "### Function that creates an ANN model"
   ]
  },
  {
   "cell_type": "code",
   "execution_count": 76,
   "metadata": {},
   "outputs": [],
   "source": [
    "def create_model(units, optimizer):\n",
    "    model = Sequential()\n",
    "    # Input layer and the first hidden layer\n",
    "    model.add(Dense(input_dim=16, units = units, activation='relu'))\n",
    "    # Second hidden layer\n",
    "    model.add(Dense(units =units, activation='relu'))\n",
    "    # Output layer\n",
    "    model.add(Dense(units = 7, activation='sigmoid'))\n",
    "    # Compiling the model\n",
    "    model.compile(optimizer = optimizer, loss = 'categorical_crossentropy', metrics = ['accuracy'])\n",
    "    return model"
   ]
  },
  {
   "attachments": {},
   "cell_type": "markdown",
   "metadata": {},
   "source": [
    "### Fucntion for plotting the accuracy and the loss of the model"
   ]
  },
  {
   "cell_type": "code",
   "execution_count": 77,
   "metadata": {},
   "outputs": [],
   "source": [
    "def plot_acc_loss(history_one, title_one, history_two, title_two):\n",
    "    fig, ((ax1, ax2),( ax3, ax4)) = plt.subplots(nrows=2, ncols=2, figsize=(30, 10))\n",
    "\n",
    "    # summarize history for accuracy\n",
    "    ax1.plot(history_one.history['accuracy'])\n",
    "    ax1.plot(history_one.history['val_accuracy'])\n",
    "    ax1.set_title(f'{title_one} accuracy')\n",
    "    ax1.set_ylabel('accuracy')\n",
    "    ax1.set_xlabel('epoch')\n",
    "    ax1.legend(['train', 'test'], loc='upper left')\n",
    "\n",
    "    # summarize history for accuracy\n",
    "    ax2.plot(history_two.history['accuracy'])\n",
    "    ax2.plot(history_two.history['val_accuracy'])\n",
    "    ax2.set_title(f'{title_two} accuracy')\n",
    "    ax2.set_ylabel('accuracy')\n",
    "    ax2.set_xlabel('epoch')\n",
    "    ax2.legend(['train', 'test'], loc='upper left')\n",
    "\n",
    "    # summarize history for loss\n",
    "    ax3.plot(history_one.history['loss'])\n",
    "    ax3.plot(history_one.history['val_loss'])\n",
    "    ax3.set_title(f'{title_one} loss')\n",
    "    ax3.set_ylabel('loss')\n",
    "    ax3.set_xlabel('epoch')\n",
    "    ax3.legend(['train', 'test'], loc='upper left')\n",
    "\n",
    "    # summarize history for loss\n",
    "    ax4.plot(history_two.history['loss'])\n",
    "    ax4.plot(history_two.history['val_loss'])\n",
    "    ax4.set_title(f'{title_two} loss')\n",
    "    ax4.set_ylabel('loss')\n",
    "    ax4.set_xlabel('epoch')\n",
    "    ax4.legend(['train', 'test'], loc='upper left')\n",
    "\n",
    "    plt.show()"
   ]
  },
  {
   "attachments": {},
   "cell_type": "markdown",
   "metadata": {},
   "source": [
    "## Part 4 - Training the ANN model with Height and Weight"
   ]
  },
  {
   "attachments": {},
   "cell_type": "markdown",
   "metadata": {},
   "source": [
    "### Training the ANN on the training set and evaluate it on the test set"
   ]
  },
  {
   "cell_type": "code",
   "execution_count": 78,
   "metadata": {},
   "outputs": [
    {
     "name": "stdout",
     "output_type": "stream",
     "text": [
      "Epoch 1/100\n",
      "45/45 [==============================] - 1s 7ms/step - loss: 1.9272 - accuracy: 0.2370 - val_loss: 1.8952 - val_accuracy: 0.2447\n",
      "Epoch 2/100\n",
      "45/45 [==============================] - 0s 3ms/step - loss: 1.7729 - accuracy: 0.3301 - val_loss: 1.7657 - val_accuracy: 0.2966\n",
      "Epoch 3/100\n",
      "45/45 [==============================] - 0s 5ms/step - loss: 1.6566 - accuracy: 0.3711 - val_loss: 1.6648 - val_accuracy: 0.3485\n",
      "Epoch 4/100\n",
      "45/45 [==============================] - 0s 3ms/step - loss: 1.5575 - accuracy: 0.4163 - val_loss: 1.5773 - val_accuracy: 0.3955\n",
      "Epoch 5/100\n",
      "45/45 [==============================] - 0s 3ms/step - loss: 1.4716 - accuracy: 0.4489 - val_loss: 1.4997 - val_accuracy: 0.4117\n",
      "Epoch 6/100\n",
      "45/45 [==============================] - 0s 3ms/step - loss: 1.3932 - accuracy: 0.4830 - val_loss: 1.4255 - val_accuracy: 0.4522\n",
      "Epoch 7/100\n",
      "45/45 [==============================] - 0s 3ms/step - loss: 1.3204 - accuracy: 0.5240 - val_loss: 1.3576 - val_accuracy: 0.4797\n",
      "Epoch 8/100\n",
      "45/45 [==============================] - 0s 3ms/step - loss: 1.2524 - accuracy: 0.5455 - val_loss: 1.2929 - val_accuracy: 0.4927\n",
      "Epoch 9/100\n",
      "45/45 [==============================] - 0s 3ms/step - loss: 1.1874 - accuracy: 0.5712 - val_loss: 1.2331 - val_accuracy: 0.5235\n",
      "Epoch 10/100\n",
      "45/45 [==============================] - 0s 3ms/step - loss: 1.1267 - accuracy: 0.5803 - val_loss: 1.1814 - val_accuracy: 0.5365\n",
      "Epoch 11/100\n",
      "45/45 [==============================] - 0s 3ms/step - loss: 1.0703 - accuracy: 0.6032 - val_loss: 1.1295 - val_accuracy: 0.5575\n",
      "Epoch 12/100\n",
      "45/45 [==============================] - 0s 3ms/step - loss: 1.0172 - accuracy: 0.6289 - val_loss: 1.0827 - val_accuracy: 0.5754\n",
      "Epoch 13/100\n",
      "45/45 [==============================] - 0s 3ms/step - loss: 0.9678 - accuracy: 0.6400 - val_loss: 1.0383 - val_accuracy: 0.5948\n",
      "Epoch 14/100\n",
      "45/45 [==============================] - 0s 4ms/step - loss: 0.9217 - accuracy: 0.6511 - val_loss: 0.9997 - val_accuracy: 0.6045\n",
      "Epoch 15/100\n",
      "45/45 [==============================] - 0s 5ms/step - loss: 0.8780 - accuracy: 0.6727 - val_loss: 0.9610 - val_accuracy: 0.6110\n",
      "Epoch 16/100\n",
      "45/45 [==============================] - 0s 4ms/step - loss: 0.8368 - accuracy: 0.6908 - val_loss: 0.9214 - val_accuracy: 0.6175\n",
      "Epoch 17/100\n",
      "45/45 [==============================] - 0s 4ms/step - loss: 0.7971 - accuracy: 0.7054 - val_loss: 0.8851 - val_accuracy: 0.6515\n",
      "Epoch 18/100\n",
      "45/45 [==============================] - 0s 4ms/step - loss: 0.7581 - accuracy: 0.7241 - val_loss: 0.8510 - val_accuracy: 0.6775\n",
      "Epoch 19/100\n",
      "45/45 [==============================] - 0s 3ms/step - loss: 0.7245 - accuracy: 0.7373 - val_loss: 0.8211 - val_accuracy: 0.6953\n",
      "Epoch 20/100\n",
      "45/45 [==============================] - 0s 3ms/step - loss: 0.6937 - accuracy: 0.7505 - val_loss: 0.7934 - val_accuracy: 0.7050\n",
      "Epoch 21/100\n",
      "45/45 [==============================] - 0s 3ms/step - loss: 0.6634 - accuracy: 0.7630 - val_loss: 0.7633 - val_accuracy: 0.7066\n",
      "Epoch 22/100\n",
      "45/45 [==============================] - 0s 3ms/step - loss: 0.6371 - accuracy: 0.7672 - val_loss: 0.7379 - val_accuracy: 0.7180\n",
      "Epoch 23/100\n",
      "45/45 [==============================] - 0s 3ms/step - loss: 0.6102 - accuracy: 0.7776 - val_loss: 0.7165 - val_accuracy: 0.7196\n",
      "Epoch 24/100\n",
      "45/45 [==============================] - 0s 3ms/step - loss: 0.5864 - accuracy: 0.7915 - val_loss: 0.6958 - val_accuracy: 0.7310\n",
      "Epoch 25/100\n",
      "45/45 [==============================] - 0s 3ms/step - loss: 0.5632 - accuracy: 0.7964 - val_loss: 0.6735 - val_accuracy: 0.7423\n",
      "Epoch 26/100\n",
      "45/45 [==============================] - 0s 3ms/step - loss: 0.5424 - accuracy: 0.8061 - val_loss: 0.6528 - val_accuracy: 0.7504\n",
      "Epoch 27/100\n",
      "45/45 [==============================] - 0s 3ms/step - loss: 0.5234 - accuracy: 0.8158 - val_loss: 0.6351 - val_accuracy: 0.7601\n",
      "Epoch 28/100\n",
      "45/45 [==============================] - 0s 4ms/step - loss: 0.5044 - accuracy: 0.8193 - val_loss: 0.6186 - val_accuracy: 0.7634\n",
      "Epoch 29/100\n",
      "45/45 [==============================] - 0s 3ms/step - loss: 0.4875 - accuracy: 0.8242 - val_loss: 0.6025 - val_accuracy: 0.7747\n",
      "Epoch 30/100\n",
      "45/45 [==============================] - 0s 3ms/step - loss: 0.4716 - accuracy: 0.8367 - val_loss: 0.5869 - val_accuracy: 0.7763\n",
      "Epoch 31/100\n",
      "45/45 [==============================] - 0s 3ms/step - loss: 0.4545 - accuracy: 0.8423 - val_loss: 0.5735 - val_accuracy: 0.7844\n",
      "Epoch 32/100\n",
      "45/45 [==============================] - 0s 3ms/step - loss: 0.4399 - accuracy: 0.8450 - val_loss: 0.5559 - val_accuracy: 0.7958\n",
      "Epoch 33/100\n",
      "45/45 [==============================] - 0s 3ms/step - loss: 0.4254 - accuracy: 0.8548 - val_loss: 0.5454 - val_accuracy: 0.8006\n",
      "Epoch 34/100\n",
      "45/45 [==============================] - 0s 3ms/step - loss: 0.4101 - accuracy: 0.8555 - val_loss: 0.5308 - val_accuracy: 0.8023\n",
      "Epoch 35/100\n",
      "45/45 [==============================] - 0s 4ms/step - loss: 0.3960 - accuracy: 0.8624 - val_loss: 0.5165 - val_accuracy: 0.8136\n",
      "Epoch 36/100\n",
      "45/45 [==============================] - 0s 4ms/step - loss: 0.3841 - accuracy: 0.8707 - val_loss: 0.5062 - val_accuracy: 0.8169\n",
      "Epoch 37/100\n",
      "45/45 [==============================] - 0s 4ms/step - loss: 0.3699 - accuracy: 0.8735 - val_loss: 0.4936 - val_accuracy: 0.8233\n",
      "Epoch 38/100\n",
      "45/45 [==============================] - 0s 4ms/step - loss: 0.3590 - accuracy: 0.8770 - val_loss: 0.4833 - val_accuracy: 0.8266\n",
      "Epoch 39/100\n",
      "45/45 [==============================] - 0s 4ms/step - loss: 0.3488 - accuracy: 0.8826 - val_loss: 0.4723 - val_accuracy: 0.8314\n",
      "Epoch 40/100\n",
      "45/45 [==============================] - 0s 3ms/step - loss: 0.3370 - accuracy: 0.8937 - val_loss: 0.4633 - val_accuracy: 0.8363\n",
      "Epoch 41/100\n",
      "45/45 [==============================] - 0s 4ms/step - loss: 0.3258 - accuracy: 0.8951 - val_loss: 0.4540 - val_accuracy: 0.8444\n",
      "Epoch 42/100\n",
      "45/45 [==============================] - 0s 5ms/step - loss: 0.3169 - accuracy: 0.8972 - val_loss: 0.4469 - val_accuracy: 0.8444\n",
      "Epoch 43/100\n",
      "45/45 [==============================] - 0s 5ms/step - loss: 0.3077 - accuracy: 0.8985 - val_loss: 0.4355 - val_accuracy: 0.8476\n",
      "Epoch 44/100\n",
      "45/45 [==============================] - 0s 4ms/step - loss: 0.2980 - accuracy: 0.9048 - val_loss: 0.4284 - val_accuracy: 0.8476\n",
      "Epoch 45/100\n",
      "45/45 [==============================] - 0s 4ms/step - loss: 0.2890 - accuracy: 0.9020 - val_loss: 0.4186 - val_accuracy: 0.8493\n",
      "Epoch 46/100\n",
      "45/45 [==============================] - 0s 3ms/step - loss: 0.2803 - accuracy: 0.9090 - val_loss: 0.4114 - val_accuracy: 0.8574\n",
      "Epoch 47/100\n",
      "45/45 [==============================] - 0s 3ms/step - loss: 0.2719 - accuracy: 0.9145 - val_loss: 0.4076 - val_accuracy: 0.8493\n",
      "Epoch 48/100\n",
      "45/45 [==============================] - 0s 3ms/step - loss: 0.2643 - accuracy: 0.9166 - val_loss: 0.3963 - val_accuracy: 0.8590\n",
      "Epoch 49/100\n",
      "45/45 [==============================] - 0s 4ms/step - loss: 0.2559 - accuracy: 0.9194 - val_loss: 0.3884 - val_accuracy: 0.8622\n",
      "Epoch 50/100\n",
      "45/45 [==============================] - 0s 5ms/step - loss: 0.2490 - accuracy: 0.9243 - val_loss: 0.3820 - val_accuracy: 0.8671\n",
      "Epoch 51/100\n",
      "45/45 [==============================] - 0s 4ms/step - loss: 0.2430 - accuracy: 0.9243 - val_loss: 0.3749 - val_accuracy: 0.8703\n",
      "Epoch 52/100\n",
      "45/45 [==============================] - 0s 5ms/step - loss: 0.2360 - accuracy: 0.9215 - val_loss: 0.3673 - val_accuracy: 0.8736\n",
      "Epoch 53/100\n",
      "45/45 [==============================] - 0s 3ms/step - loss: 0.2289 - accuracy: 0.9256 - val_loss: 0.3596 - val_accuracy: 0.8752\n",
      "Epoch 54/100\n",
      "45/45 [==============================] - 0s 3ms/step - loss: 0.2233 - accuracy: 0.9298 - val_loss: 0.3548 - val_accuracy: 0.8768\n",
      "Epoch 55/100\n",
      "45/45 [==============================] - 0s 4ms/step - loss: 0.2176 - accuracy: 0.9326 - val_loss: 0.3479 - val_accuracy: 0.8687\n",
      "Epoch 56/100\n",
      "45/45 [==============================] - 0s 5ms/step - loss: 0.2111 - accuracy: 0.9333 - val_loss: 0.3417 - val_accuracy: 0.8833\n",
      "Epoch 57/100\n",
      "45/45 [==============================] - 0s 3ms/step - loss: 0.2061 - accuracy: 0.9395 - val_loss: 0.3391 - val_accuracy: 0.8849\n",
      "Epoch 58/100\n",
      "45/45 [==============================] - 0s 3ms/step - loss: 0.2027 - accuracy: 0.9347 - val_loss: 0.3299 - val_accuracy: 0.8914\n",
      "Epoch 59/100\n",
      "45/45 [==============================] - 0s 3ms/step - loss: 0.1958 - accuracy: 0.9402 - val_loss: 0.3284 - val_accuracy: 0.8752\n",
      "Epoch 60/100\n",
      "45/45 [==============================] - 0s 3ms/step - loss: 0.1911 - accuracy: 0.9395 - val_loss: 0.3225 - val_accuracy: 0.8882\n",
      "Epoch 61/100\n",
      "45/45 [==============================] - 0s 3ms/step - loss: 0.1860 - accuracy: 0.9472 - val_loss: 0.3180 - val_accuracy: 0.8898\n",
      "Epoch 62/100\n",
      "45/45 [==============================] - 0s 3ms/step - loss: 0.1820 - accuracy: 0.9444 - val_loss: 0.3173 - val_accuracy: 0.8882\n",
      "Epoch 63/100\n",
      "45/45 [==============================] - 0s 3ms/step - loss: 0.1768 - accuracy: 0.9493 - val_loss: 0.3088 - val_accuracy: 0.8963\n",
      "Epoch 64/100\n",
      "45/45 [==============================] - 0s 3ms/step - loss: 0.1727 - accuracy: 0.9507 - val_loss: 0.3085 - val_accuracy: 0.8963\n",
      "Epoch 65/100\n",
      "45/45 [==============================] - 0s 4ms/step - loss: 0.1707 - accuracy: 0.9458 - val_loss: 0.2999 - val_accuracy: 0.8963\n",
      "Epoch 66/100\n",
      "45/45 [==============================] - 0s 3ms/step - loss: 0.1646 - accuracy: 0.9507 - val_loss: 0.2981 - val_accuracy: 0.8995\n",
      "Epoch 67/100\n",
      "45/45 [==============================] - 0s 3ms/step - loss: 0.1613 - accuracy: 0.9514 - val_loss: 0.2969 - val_accuracy: 0.8979\n",
      "Epoch 68/100\n",
      "45/45 [==============================] - 0s 3ms/step - loss: 0.1578 - accuracy: 0.9534 - val_loss: 0.2917 - val_accuracy: 0.9044\n",
      "Epoch 69/100\n",
      "45/45 [==============================] - 0s 3ms/step - loss: 0.1538 - accuracy: 0.9534 - val_loss: 0.2865 - val_accuracy: 0.9044\n",
      "Epoch 70/100\n",
      "45/45 [==============================] - 0s 4ms/step - loss: 0.1509 - accuracy: 0.9576 - val_loss: 0.2867 - val_accuracy: 0.8995\n",
      "Epoch 71/100\n",
      "45/45 [==============================] - 0s 3ms/step - loss: 0.1475 - accuracy: 0.9562 - val_loss: 0.2807 - val_accuracy: 0.9060\n",
      "Epoch 72/100\n",
      "45/45 [==============================] - 0s 3ms/step - loss: 0.1440 - accuracy: 0.9625 - val_loss: 0.2806 - val_accuracy: 0.9092\n",
      "Epoch 73/100\n",
      "45/45 [==============================] - 0s 5ms/step - loss: 0.1417 - accuracy: 0.9583 - val_loss: 0.2760 - val_accuracy: 0.9141\n",
      "Epoch 74/100\n",
      "45/45 [==============================] - 0s 3ms/step - loss: 0.1388 - accuracy: 0.9618 - val_loss: 0.2734 - val_accuracy: 0.9125\n",
      "Epoch 75/100\n",
      "45/45 [==============================] - 0s 3ms/step - loss: 0.1351 - accuracy: 0.9639 - val_loss: 0.2685 - val_accuracy: 0.9125\n",
      "Epoch 76/100\n",
      "45/45 [==============================] - 0s 3ms/step - loss: 0.1329 - accuracy: 0.9611 - val_loss: 0.2703 - val_accuracy: 0.9092\n",
      "Epoch 77/100\n",
      "45/45 [==============================] - 0s 3ms/step - loss: 0.1299 - accuracy: 0.9680 - val_loss: 0.2682 - val_accuracy: 0.9109\n",
      "Epoch 78/100\n",
      "45/45 [==============================] - 0s 3ms/step - loss: 0.1274 - accuracy: 0.9680 - val_loss: 0.2621 - val_accuracy: 0.9173\n",
      "Epoch 79/100\n",
      "45/45 [==============================] - 0s 3ms/step - loss: 0.1250 - accuracy: 0.9639 - val_loss: 0.2621 - val_accuracy: 0.9125\n",
      "Epoch 80/100\n",
      "45/45 [==============================] - 0s 3ms/step - loss: 0.1232 - accuracy: 0.9701 - val_loss: 0.2612 - val_accuracy: 0.9141\n",
      "Epoch 81/100\n",
      "45/45 [==============================] - 0s 4ms/step - loss: 0.1207 - accuracy: 0.9673 - val_loss: 0.2576 - val_accuracy: 0.9173\n",
      "Epoch 82/100\n",
      "45/45 [==============================] - 0s 4ms/step - loss: 0.1178 - accuracy: 0.9715 - val_loss: 0.2543 - val_accuracy: 0.9190\n",
      "Epoch 83/100\n",
      "45/45 [==============================] - 0s 3ms/step - loss: 0.1154 - accuracy: 0.9659 - val_loss: 0.2522 - val_accuracy: 0.9157\n",
      "Epoch 84/100\n",
      "45/45 [==============================] - 0s 4ms/step - loss: 0.1147 - accuracy: 0.9701 - val_loss: 0.2508 - val_accuracy: 0.9206\n",
      "Epoch 85/100\n",
      "45/45 [==============================] - 0s 3ms/step - loss: 0.1109 - accuracy: 0.9736 - val_loss: 0.2472 - val_accuracy: 0.9157\n",
      "Epoch 86/100\n",
      "45/45 [==============================] - 0s 3ms/step - loss: 0.1088 - accuracy: 0.9722 - val_loss: 0.2493 - val_accuracy: 0.9222\n",
      "Epoch 87/100\n",
      "45/45 [==============================] - 0s 4ms/step - loss: 0.1083 - accuracy: 0.9729 - val_loss: 0.2467 - val_accuracy: 0.9206\n",
      "Epoch 88/100\n",
      "45/45 [==============================] - 0s 4ms/step - loss: 0.1047 - accuracy: 0.9778 - val_loss: 0.2442 - val_accuracy: 0.9190\n",
      "Epoch 89/100\n",
      "45/45 [==============================] - 0s 3ms/step - loss: 0.1040 - accuracy: 0.9757 - val_loss: 0.2437 - val_accuracy: 0.9206\n",
      "Epoch 90/100\n",
      "45/45 [==============================] - 0s 4ms/step - loss: 0.1015 - accuracy: 0.9778 - val_loss: 0.2387 - val_accuracy: 0.9238\n",
      "Epoch 91/100\n",
      "45/45 [==============================] - 0s 4ms/step - loss: 0.0993 - accuracy: 0.9743 - val_loss: 0.2362 - val_accuracy: 0.9238\n",
      "Epoch 92/100\n",
      "45/45 [==============================] - 0s 4ms/step - loss: 0.0973 - accuracy: 0.9798 - val_loss: 0.2375 - val_accuracy: 0.9238\n",
      "Epoch 93/100\n",
      "45/45 [==============================] - 0s 4ms/step - loss: 0.0959 - accuracy: 0.9757 - val_loss: 0.2368 - val_accuracy: 0.9206\n",
      "Epoch 94/100\n",
      "45/45 [==============================] - 0s 3ms/step - loss: 0.0942 - accuracy: 0.9805 - val_loss: 0.2337 - val_accuracy: 0.9222\n",
      "Epoch 95/100\n",
      "45/45 [==============================] - 0s 3ms/step - loss: 0.0931 - accuracy: 0.9798 - val_loss: 0.2331 - val_accuracy: 0.9254\n",
      "Epoch 96/100\n",
      "45/45 [==============================] - 0s 3ms/step - loss: 0.0902 - accuracy: 0.9792 - val_loss: 0.2304 - val_accuracy: 0.9271\n",
      "Epoch 97/100\n",
      "45/45 [==============================] - 0s 3ms/step - loss: 0.0898 - accuracy: 0.9798 - val_loss: 0.2326 - val_accuracy: 0.9271\n",
      "Epoch 98/100\n",
      "45/45 [==============================] - 0s 3ms/step - loss: 0.0880 - accuracy: 0.9778 - val_loss: 0.2272 - val_accuracy: 0.9319\n",
      "Epoch 99/100\n",
      "45/45 [==============================] - 0s 3ms/step - loss: 0.0857 - accuracy: 0.9792 - val_loss: 0.2321 - val_accuracy: 0.9238\n",
      "Epoch 100/100\n",
      "45/45 [==============================] - 0s 3ms/step - loss: 0.0846 - accuracy: 0.9826 - val_loss: 0.2307 - val_accuracy: 0.9254\n"
     ]
    }
   ],
   "source": [
    "#32 is commonly used for batch size\n",
    "#the epochs values should not be too small as I read\n",
    "ann_wHW = create_model(units=10, optimizer='adam')\n",
    "history_wHW = ann_wHW.fit(x = X_train_wHW, y=y_train_wHW, batch_size = 32, epochs = 100, validation_data=(X_test_wHW, y_test_wHW))"
   ]
  },
  {
   "cell_type": "code",
   "execution_count": 80,
   "metadata": {},
   "outputs": [
    {
     "name": "stdout",
     "output_type": "stream",
     "text": [
      "20/20 [==============================] - 0s 1ms/step\n"
     ]
    },
    {
     "data": {
      "text/plain": [
       "array([9.9687976e-01, 9.9998641e-01, 2.0907356e-12, 7.3958299e-21,\n",
       "       9.0967368e-16, 9.4924045e-01, 2.6256372e-03], dtype=float32)"
      ]
     },
     "execution_count": 80,
     "metadata": {},
     "output_type": "execute_result"
    }
   ],
   "source": [
    "test_pred = ann_wHW.predict(X_test_wHW)\n",
    "test_pred[0]"
   ]
  },
  {
   "attachments": {},
   "cell_type": "markdown",
   "metadata": {},
   "source": [
    "## Part 5 - Training the ANN model without Height and Weight"
   ]
  },
  {
   "attachments": {},
   "cell_type": "markdown",
   "metadata": {},
   "source": [
    "### Training the ANN on the training set and evaluate it on the test set"
   ]
  },
  {
   "cell_type": "code",
   "execution_count": 79,
   "metadata": {},
   "outputs": [
    {
     "name": "stdout",
     "output_type": "stream",
     "text": [
      "Epoch 1/100\n",
      "45/45 [==============================] - 1s 8ms/step - loss: 1.9392 - accuracy: 0.2342 - val_loss: 1.8699 - val_accuracy: 0.2707\n",
      "Epoch 2/100\n",
      "45/45 [==============================] - 0s 4ms/step - loss: 1.7937 - accuracy: 0.2988 - val_loss: 1.7578 - val_accuracy: 0.2836\n",
      "Epoch 3/100\n",
      "45/45 [==============================] - 0s 4ms/step - loss: 1.6744 - accuracy: 0.3127 - val_loss: 1.6569 - val_accuracy: 0.3193\n",
      "Epoch 4/100\n",
      "45/45 [==============================] - 0s 5ms/step - loss: 1.5662 - accuracy: 0.3537 - val_loss: 1.5636 - val_accuracy: 0.3614\n",
      "Epoch 5/100\n",
      "45/45 [==============================] - 0s 4ms/step - loss: 1.4672 - accuracy: 0.4142 - val_loss: 1.4723 - val_accuracy: 0.4117\n",
      "Epoch 6/100\n",
      "45/45 [==============================] - 0s 3ms/step - loss: 1.3736 - accuracy: 0.4767 - val_loss: 1.3867 - val_accuracy: 0.4684\n",
      "Epoch 7/100\n",
      "45/45 [==============================] - 0s 4ms/step - loss: 1.2848 - accuracy: 0.5149 - val_loss: 1.3014 - val_accuracy: 0.5251\n",
      "Epoch 8/100\n",
      "45/45 [==============================] - 0s 3ms/step - loss: 1.1993 - accuracy: 0.5469 - val_loss: 1.2211 - val_accuracy: 0.5624\n",
      "Epoch 9/100\n",
      "45/45 [==============================] - 0s 3ms/step - loss: 1.1238 - accuracy: 0.5754 - val_loss: 1.1494 - val_accuracy: 0.5786\n",
      "Epoch 10/100\n",
      "45/45 [==============================] - 0s 3ms/step - loss: 1.0555 - accuracy: 0.5990 - val_loss: 1.0845 - val_accuracy: 0.5932\n",
      "Epoch 11/100\n",
      "45/45 [==============================] - 0s 3ms/step - loss: 0.9938 - accuracy: 0.6303 - val_loss: 1.0278 - val_accuracy: 0.5916\n",
      "Epoch 12/100\n",
      "45/45 [==============================] - 0s 3ms/step - loss: 0.9385 - accuracy: 0.6379 - val_loss: 0.9778 - val_accuracy: 0.6159\n",
      "Epoch 13/100\n",
      "45/45 [==============================] - 0s 3ms/step - loss: 0.8893 - accuracy: 0.6685 - val_loss: 0.9324 - val_accuracy: 0.6240\n",
      "Epoch 14/100\n",
      "45/45 [==============================] - 0s 3ms/step - loss: 0.8451 - accuracy: 0.6762 - val_loss: 0.8925 - val_accuracy: 0.6434\n",
      "Epoch 15/100\n",
      "45/45 [==============================] - 0s 3ms/step - loss: 0.8011 - accuracy: 0.7074 - val_loss: 0.8534 - val_accuracy: 0.6629\n",
      "Epoch 16/100\n",
      "45/45 [==============================] - 0s 3ms/step - loss: 0.7608 - accuracy: 0.7151 - val_loss: 0.8158 - val_accuracy: 0.6710\n",
      "Epoch 17/100\n",
      "45/45 [==============================] - 0s 4ms/step - loss: 0.7221 - accuracy: 0.7457 - val_loss: 0.7814 - val_accuracy: 0.6953\n",
      "Epoch 18/100\n",
      "45/45 [==============================] - 0s 3ms/step - loss: 0.6846 - accuracy: 0.7512 - val_loss: 0.7456 - val_accuracy: 0.7229\n",
      "Epoch 19/100\n",
      "45/45 [==============================] - 0s 3ms/step - loss: 0.6511 - accuracy: 0.7846 - val_loss: 0.7177 - val_accuracy: 0.7439\n",
      "Epoch 20/100\n",
      "45/45 [==============================] - 0s 4ms/step - loss: 0.6202 - accuracy: 0.7957 - val_loss: 0.6852 - val_accuracy: 0.7682\n",
      "Epoch 21/100\n",
      "45/45 [==============================] - 0s 4ms/step - loss: 0.5891 - accuracy: 0.8096 - val_loss: 0.6554 - val_accuracy: 0.7634\n",
      "Epoch 22/100\n",
      "45/45 [==============================] - 0s 4ms/step - loss: 0.5618 - accuracy: 0.8249 - val_loss: 0.6276 - val_accuracy: 0.7844\n",
      "Epoch 23/100\n",
      "45/45 [==============================] - 0s 4ms/step - loss: 0.5373 - accuracy: 0.8284 - val_loss: 0.6037 - val_accuracy: 0.7990\n",
      "Epoch 24/100\n",
      "45/45 [==============================] - 0s 5ms/step - loss: 0.5110 - accuracy: 0.8450 - val_loss: 0.5809 - val_accuracy: 0.7909\n",
      "Epoch 25/100\n",
      "45/45 [==============================] - 0s 5ms/step - loss: 0.4877 - accuracy: 0.8478 - val_loss: 0.5587 - val_accuracy: 0.8104\n",
      "Epoch 26/100\n",
      "45/45 [==============================] - 0s 5ms/step - loss: 0.4686 - accuracy: 0.8520 - val_loss: 0.5400 - val_accuracy: 0.8120\n",
      "Epoch 27/100\n",
      "45/45 [==============================] - 0s 5ms/step - loss: 0.4483 - accuracy: 0.8645 - val_loss: 0.5218 - val_accuracy: 0.8136\n",
      "Epoch 28/100\n",
      "45/45 [==============================] - 0s 5ms/step - loss: 0.4280 - accuracy: 0.8659 - val_loss: 0.5004 - val_accuracy: 0.8266\n",
      "Epoch 29/100\n",
      "45/45 [==============================] - 0s 4ms/step - loss: 0.4105 - accuracy: 0.8714 - val_loss: 0.4856 - val_accuracy: 0.8331\n",
      "Epoch 30/100\n",
      "45/45 [==============================] - 0s 4ms/step - loss: 0.3941 - accuracy: 0.8721 - val_loss: 0.4718 - val_accuracy: 0.8412\n",
      "Epoch 31/100\n",
      "45/45 [==============================] - 0s 4ms/step - loss: 0.3799 - accuracy: 0.8826 - val_loss: 0.4591 - val_accuracy: 0.8363\n",
      "Epoch 32/100\n",
      "45/45 [==============================] - 0s 3ms/step - loss: 0.3664 - accuracy: 0.8826 - val_loss: 0.4452 - val_accuracy: 0.8444\n",
      "Epoch 33/100\n",
      "45/45 [==============================] - 0s 3ms/step - loss: 0.3521 - accuracy: 0.8888 - val_loss: 0.4371 - val_accuracy: 0.8509\n",
      "Epoch 34/100\n",
      "45/45 [==============================] - 0s 3ms/step - loss: 0.3404 - accuracy: 0.8916 - val_loss: 0.4242 - val_accuracy: 0.8590\n",
      "Epoch 35/100\n",
      "45/45 [==============================] - 0s 4ms/step - loss: 0.3286 - accuracy: 0.8958 - val_loss: 0.4127 - val_accuracy: 0.8639\n",
      "Epoch 36/100\n",
      "45/45 [==============================] - 0s 4ms/step - loss: 0.3164 - accuracy: 0.8978 - val_loss: 0.4027 - val_accuracy: 0.8655\n",
      "Epoch 37/100\n",
      "45/45 [==============================] - 0s 4ms/step - loss: 0.3061 - accuracy: 0.8992 - val_loss: 0.3911 - val_accuracy: 0.8687\n",
      "Epoch 38/100\n",
      "45/45 [==============================] - 0s 4ms/step - loss: 0.2966 - accuracy: 0.9048 - val_loss: 0.3882 - val_accuracy: 0.8720\n",
      "Epoch 39/100\n",
      "45/45 [==============================] - 0s 4ms/step - loss: 0.2883 - accuracy: 0.9069 - val_loss: 0.3779 - val_accuracy: 0.8687\n",
      "Epoch 40/100\n",
      "45/45 [==============================] - 0s 6ms/step - loss: 0.2774 - accuracy: 0.9104 - val_loss: 0.3672 - val_accuracy: 0.8703\n",
      "Epoch 41/100\n",
      "45/45 [==============================] - 0s 4ms/step - loss: 0.2688 - accuracy: 0.9124 - val_loss: 0.3611 - val_accuracy: 0.8687\n",
      "Epoch 42/100\n",
      "45/45 [==============================] - 0s 4ms/step - loss: 0.2607 - accuracy: 0.9173 - val_loss: 0.3527 - val_accuracy: 0.8736\n",
      "Epoch 43/100\n",
      "45/45 [==============================] - 0s 4ms/step - loss: 0.2536 - accuracy: 0.9166 - val_loss: 0.3483 - val_accuracy: 0.8752\n",
      "Epoch 44/100\n",
      "45/45 [==============================] - 0s 6ms/step - loss: 0.2460 - accuracy: 0.9236 - val_loss: 0.3392 - val_accuracy: 0.8784\n",
      "Epoch 45/100\n",
      "45/45 [==============================] - 0s 6ms/step - loss: 0.2374 - accuracy: 0.9229 - val_loss: 0.3322 - val_accuracy: 0.8801\n",
      "Epoch 46/100\n",
      "45/45 [==============================] - 0s 4ms/step - loss: 0.2293 - accuracy: 0.9291 - val_loss: 0.3272 - val_accuracy: 0.8817\n",
      "Epoch 47/100\n",
      "45/45 [==============================] - 0s 4ms/step - loss: 0.2248 - accuracy: 0.9326 - val_loss: 0.3206 - val_accuracy: 0.8817\n",
      "Epoch 48/100\n",
      "45/45 [==============================] - 0s 4ms/step - loss: 0.2173 - accuracy: 0.9368 - val_loss: 0.3140 - val_accuracy: 0.8833\n",
      "Epoch 49/100\n",
      "45/45 [==============================] - 0s 5ms/step - loss: 0.2107 - accuracy: 0.9333 - val_loss: 0.3122 - val_accuracy: 0.8817\n",
      "Epoch 50/100\n",
      "45/45 [==============================] - 0s 4ms/step - loss: 0.2050 - accuracy: 0.9388 - val_loss: 0.3057 - val_accuracy: 0.8849\n",
      "Epoch 51/100\n",
      "45/45 [==============================] - 0s 4ms/step - loss: 0.1994 - accuracy: 0.9395 - val_loss: 0.2992 - val_accuracy: 0.8882\n",
      "Epoch 52/100\n",
      "45/45 [==============================] - 0s 4ms/step - loss: 0.1942 - accuracy: 0.9395 - val_loss: 0.2936 - val_accuracy: 0.8914\n",
      "Epoch 53/100\n",
      "45/45 [==============================] - 0s 4ms/step - loss: 0.1888 - accuracy: 0.9423 - val_loss: 0.2892 - val_accuracy: 0.8995\n",
      "Epoch 54/100\n",
      "45/45 [==============================] - 0s 4ms/step - loss: 0.1831 - accuracy: 0.9479 - val_loss: 0.2859 - val_accuracy: 0.8947\n",
      "Epoch 55/100\n",
      "45/45 [==============================] - 0s 4ms/step - loss: 0.1789 - accuracy: 0.9493 - val_loss: 0.2825 - val_accuracy: 0.8947\n",
      "Epoch 56/100\n",
      "45/45 [==============================] - 0s 4ms/step - loss: 0.1734 - accuracy: 0.9472 - val_loss: 0.2778 - val_accuracy: 0.8963\n",
      "Epoch 57/100\n",
      "45/45 [==============================] - 0s 4ms/step - loss: 0.1693 - accuracy: 0.9521 - val_loss: 0.2741 - val_accuracy: 0.8979\n",
      "Epoch 58/100\n",
      "45/45 [==============================] - 0s 4ms/step - loss: 0.1647 - accuracy: 0.9541 - val_loss: 0.2714 - val_accuracy: 0.8995\n",
      "Epoch 59/100\n",
      "45/45 [==============================] - 0s 4ms/step - loss: 0.1593 - accuracy: 0.9569 - val_loss: 0.2703 - val_accuracy: 0.8979\n",
      "Epoch 60/100\n",
      "45/45 [==============================] - 0s 5ms/step - loss: 0.1556 - accuracy: 0.9555 - val_loss: 0.2636 - val_accuracy: 0.9011\n",
      "Epoch 61/100\n",
      "45/45 [==============================] - 0s 5ms/step - loss: 0.1531 - accuracy: 0.9618 - val_loss: 0.2615 - val_accuracy: 0.9044\n",
      "Epoch 62/100\n",
      "45/45 [==============================] - 0s 4ms/step - loss: 0.1483 - accuracy: 0.9611 - val_loss: 0.2591 - val_accuracy: 0.9109\n",
      "Epoch 63/100\n",
      "45/45 [==============================] - 0s 4ms/step - loss: 0.1449 - accuracy: 0.9632 - val_loss: 0.2551 - val_accuracy: 0.9157\n",
      "Epoch 64/100\n",
      "45/45 [==============================] - 0s 3ms/step - loss: 0.1428 - accuracy: 0.9611 - val_loss: 0.2487 - val_accuracy: 0.9206\n",
      "Epoch 65/100\n",
      "45/45 [==============================] - 0s 3ms/step - loss: 0.1396 - accuracy: 0.9646 - val_loss: 0.2475 - val_accuracy: 0.9157\n",
      "Epoch 66/100\n",
      "45/45 [==============================] - 0s 3ms/step - loss: 0.1364 - accuracy: 0.9618 - val_loss: 0.2429 - val_accuracy: 0.9190\n",
      "Epoch 67/100\n",
      "45/45 [==============================] - 0s 4ms/step - loss: 0.1330 - accuracy: 0.9659 - val_loss: 0.2430 - val_accuracy: 0.9173\n",
      "Epoch 68/100\n",
      "45/45 [==============================] - 0s 6ms/step - loss: 0.1307 - accuracy: 0.9694 - val_loss: 0.2405 - val_accuracy: 0.9157\n",
      "Epoch 69/100\n",
      "45/45 [==============================] - 0s 4ms/step - loss: 0.1268 - accuracy: 0.9715 - val_loss: 0.2346 - val_accuracy: 0.9222\n",
      "Epoch 70/100\n",
      "45/45 [==============================] - 0s 4ms/step - loss: 0.1246 - accuracy: 0.9729 - val_loss: 0.2356 - val_accuracy: 0.9157\n",
      "Epoch 71/100\n",
      "45/45 [==============================] - 0s 4ms/step - loss: 0.1205 - accuracy: 0.9736 - val_loss: 0.2262 - val_accuracy: 0.9206\n",
      "Epoch 72/100\n",
      "45/45 [==============================] - 0s 5ms/step - loss: 0.1185 - accuracy: 0.9750 - val_loss: 0.2286 - val_accuracy: 0.9173\n",
      "Epoch 73/100\n",
      "45/45 [==============================] - 0s 5ms/step - loss: 0.1168 - accuracy: 0.9750 - val_loss: 0.2232 - val_accuracy: 0.9238\n",
      "Epoch 74/100\n",
      "45/45 [==============================] - 0s 4ms/step - loss: 0.1140 - accuracy: 0.9722 - val_loss: 0.2212 - val_accuracy: 0.9238\n",
      "Epoch 75/100\n",
      "45/45 [==============================] - 0s 3ms/step - loss: 0.1117 - accuracy: 0.9757 - val_loss: 0.2198 - val_accuracy: 0.9206\n",
      "Epoch 76/100\n",
      "45/45 [==============================] - 0s 3ms/step - loss: 0.1089 - accuracy: 0.9757 - val_loss: 0.2188 - val_accuracy: 0.9222\n",
      "Epoch 77/100\n",
      "45/45 [==============================] - 0s 4ms/step - loss: 0.1064 - accuracy: 0.9722 - val_loss: 0.2121 - val_accuracy: 0.9287\n",
      "Epoch 78/100\n",
      "45/45 [==============================] - 0s 5ms/step - loss: 0.1055 - accuracy: 0.9743 - val_loss: 0.2108 - val_accuracy: 0.9271\n",
      "Epoch 79/100\n",
      "45/45 [==============================] - 0s 4ms/step - loss: 0.1031 - accuracy: 0.9798 - val_loss: 0.2101 - val_accuracy: 0.9287\n",
      "Epoch 80/100\n",
      "45/45 [==============================] - 0s 4ms/step - loss: 0.1013 - accuracy: 0.9792 - val_loss: 0.2106 - val_accuracy: 0.9254\n",
      "Epoch 81/100\n",
      "45/45 [==============================] - 0s 5ms/step - loss: 0.0991 - accuracy: 0.9798 - val_loss: 0.2092 - val_accuracy: 0.9271\n",
      "Epoch 82/100\n",
      "45/45 [==============================] - 0s 4ms/step - loss: 0.0969 - accuracy: 0.9792 - val_loss: 0.2063 - val_accuracy: 0.9287\n",
      "Epoch 83/100\n",
      "45/45 [==============================] - 0s 4ms/step - loss: 0.0950 - accuracy: 0.9792 - val_loss: 0.2023 - val_accuracy: 0.9254\n",
      "Epoch 84/100\n",
      "45/45 [==============================] - 0s 3ms/step - loss: 0.0942 - accuracy: 0.9778 - val_loss: 0.2044 - val_accuracy: 0.9222\n",
      "Epoch 85/100\n",
      "45/45 [==============================] - 0s 3ms/step - loss: 0.0919 - accuracy: 0.9812 - val_loss: 0.2011 - val_accuracy: 0.9222\n",
      "Epoch 86/100\n",
      "45/45 [==============================] - 0s 4ms/step - loss: 0.0899 - accuracy: 0.9833 - val_loss: 0.2040 - val_accuracy: 0.9238\n",
      "Epoch 87/100\n",
      "45/45 [==============================] - 0s 5ms/step - loss: 0.0889 - accuracy: 0.9819 - val_loss: 0.2017 - val_accuracy: 0.9287\n",
      "Epoch 88/100\n",
      "45/45 [==============================] - 0s 3ms/step - loss: 0.0874 - accuracy: 0.9798 - val_loss: 0.2016 - val_accuracy: 0.9271\n",
      "Epoch 89/100\n",
      "45/45 [==============================] - 0s 4ms/step - loss: 0.0852 - accuracy: 0.9805 - val_loss: 0.1977 - val_accuracy: 0.9254\n",
      "Epoch 90/100\n",
      "45/45 [==============================] - 0s 3ms/step - loss: 0.0836 - accuracy: 0.9847 - val_loss: 0.1983 - val_accuracy: 0.9303\n",
      "Epoch 91/100\n",
      "45/45 [==============================] - 0s 3ms/step - loss: 0.0821 - accuracy: 0.9812 - val_loss: 0.1940 - val_accuracy: 0.9352\n",
      "Epoch 92/100\n",
      "45/45 [==============================] - 0s 3ms/step - loss: 0.0816 - accuracy: 0.9798 - val_loss: 0.1942 - val_accuracy: 0.9271\n",
      "Epoch 93/100\n",
      "45/45 [==============================] - 0s 3ms/step - loss: 0.0802 - accuracy: 0.9812 - val_loss: 0.1972 - val_accuracy: 0.9238\n",
      "Epoch 94/100\n",
      "45/45 [==============================] - 0s 3ms/step - loss: 0.0789 - accuracy: 0.9847 - val_loss: 0.1951 - val_accuracy: 0.9335\n",
      "Epoch 95/100\n",
      "45/45 [==============================] - 0s 3ms/step - loss: 0.0774 - accuracy: 0.9826 - val_loss: 0.1920 - val_accuracy: 0.9254\n",
      "Epoch 96/100\n",
      "45/45 [==============================] - 0s 3ms/step - loss: 0.0755 - accuracy: 0.9840 - val_loss: 0.1928 - val_accuracy: 0.9287\n",
      "Epoch 97/100\n",
      "45/45 [==============================] - 0s 3ms/step - loss: 0.0751 - accuracy: 0.9826 - val_loss: 0.1884 - val_accuracy: 0.9319\n",
      "Epoch 98/100\n",
      "45/45 [==============================] - 0s 3ms/step - loss: 0.0732 - accuracy: 0.9826 - val_loss: 0.1916 - val_accuracy: 0.9368\n",
      "Epoch 99/100\n",
      "45/45 [==============================] - 0s 3ms/step - loss: 0.0730 - accuracy: 0.9840 - val_loss: 0.1845 - val_accuracy: 0.9368\n",
      "Epoch 100/100\n",
      "45/45 [==============================] - 0s 3ms/step - loss: 0.0713 - accuracy: 0.9854 - val_loss: 0.1894 - val_accuracy: 0.9319\n"
     ]
    }
   ],
   "source": [
    "ann_nHW = create_model(units=10, optimizer='adam')\n",
    "history_nHW = ann_nHW.fit(x = X_train_nHW, y=y_train_nHW, batch_size = 32, epochs = 100, validation_data=(X_test_nHW, y_test_nHW))"
   ]
  },
  {
   "attachments": {},
   "cell_type": "markdown",
   "metadata": {},
   "source": [
    "## Part 6 - Plotting the accuracy and the loss for both models"
   ]
  },
  {
   "attachments": {},
   "cell_type": "markdown",
   "metadata": {},
   "source": [
    "### Displaying the accruacy of the two models on the test set"
   ]
  },
  {
   "cell_type": "code",
   "execution_count": 81,
   "metadata": {},
   "outputs": [
    {
     "name": "stdout",
     "output_type": "stream",
     "text": [
      "20/20 [==============================] - 0s 2ms/step - loss: 0.2307 - accuracy: 0.9254\n"
     ]
    }
   ],
   "source": [
    "ann_wHW.evaluate(X_test_wHW, y_test_wHW);"
   ]
  },
  {
   "cell_type": "code",
   "execution_count": 82,
   "metadata": {},
   "outputs": [
    {
     "name": "stdout",
     "output_type": "stream",
     "text": [
      " 1/20 [>.............................] - ETA: 0s - loss: 0.2523 - accuracy: 0.8750"
     ]
    },
    {
     "name": "stdout",
     "output_type": "stream",
     "text": [
      "20/20 [==============================] - 0s 2ms/step - loss: 0.1894 - accuracy: 0.9319\n"
     ]
    }
   ],
   "source": [
    "ann_nHW.evaluate(X_test_nHW, y_test_nHW);"
   ]
  }
 ],
 "metadata": {
  "kernelspec": {
   "display_name": "Python 3",
   "language": "python",
   "name": "python3"
  },
  "language_info": {
   "codemirror_mode": {
    "name": "ipython",
    "version": 3
   },
   "file_extension": ".py",
   "mimetype": "text/x-python",
   "name": "python",
   "nbconvert_exporter": "python",
   "pygments_lexer": "ipython3",
   "version": "3.10.8"
  },
  "orig_nbformat": 4
 },
 "nbformat": 4,
 "nbformat_minor": 2
}
